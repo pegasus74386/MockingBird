{
  "nbformat": 4,
  "nbformat_minor": 0,
  "metadata": {
    "colab": {
      "name": " MockingBird.ipynb",
      "provenance": [],
      "collapsed_sections": [],
      "mount_file_id": "1uYpi4yLxYGbEKQER1fzPPDF9oXS28BZk",
      "authorship_tag": "ABX9TyO5qkU6HQkiAwarFVhSBA4R",
      "include_colab_link": true
    },
    "kernelspec": {
      "name": "python3",
      "display_name": "Python 3"
    },
    "language_info": {
      "name": "python"
    }
  },
  "cells": [
    {
      "cell_type": "markdown",
      "metadata": {
        "id": "view-in-github",
        "colab_type": "text"
      },
      "source": [
        "<a href=\"https://colab.research.google.com/github/pegasus74386/MockingBird/blob/main/MockingBird.ipynb\" target=\"_parent\"><img src=\"https://colab.research.google.com/assets/colab-badge.svg\" alt=\"Open In Colab\"/></a>"
      ]
    },
    {
      "cell_type": "code",
      "metadata": {
        "id": "KtPP3K9inlLM",
        "colab": {
          "base_uri": "https://localhost:8080/"
        },
        "outputId": "6ec9a220-f06c-4bdb-f7ee-dcc686304dec"
      },
      "source": [
        "#@title 挂载云盘\n",
        "from google.colab import drive\n",
        "drive.mount('/content/drive')"
      ],
      "execution_count": null,
      "outputs": [
        {
          "output_type": "stream",
          "name": "stdout",
          "text": [
            "Mounted at /content/drive\n"
          ]
        }
      ]
    },
    {
      "cell_type": "markdown",
      "source": [
        ""
      ],
      "metadata": {
        "id": "d-3AlXri8Xes"
      }
    },
    {
      "cell_type": "code",
      "source": [
        "%cd /content/drive/MyDrive/ MockingBirdLab/MockingBird-main"
      ],
      "metadata": {
        "colab": {
          "base_uri": "https://localhost:8080/"
        },
        "id": "i8H7x06Xyy7d",
        "outputId": "7a6768f7-82ff-4c47-e194-322aac28c2a7"
      },
      "execution_count": null,
      "outputs": [
        {
          "output_type": "stream",
          "name": "stdout",
          "text": [
            "/content/drive/MyDrive/ MockingBirdLab/MockingBird-main\n"
          ]
        }
      ]
    },
    {
      "cell_type": "code",
      "source": [
        "!pip3 install torch torchvision torchaudio --extra-index-url https://download.pytorch.org/whl/cpu"
      ],
      "metadata": {
        "id": "_2uJs-dD8V8B"
      },
      "execution_count": null,
      "outputs": []
    },
    {
      "cell_type": "code",
      "source": [
        "!ffmpeg Version"
      ],
      "metadata": {
        "id": "r25Vqqc-81o3"
      },
      "execution_count": null,
      "outputs": []
    },
    {
      "cell_type": "code",
      "source": [
        "!pip install -r requirements.txt"
      ],
      "metadata": {
        "id": "3v9Mmv8Gy718"
      },
      "execution_count": null,
      "outputs": []
    },
    {
      "cell_type": "code",
      "source": [
        "!pip install webrtcvad-wheels"
      ],
      "metadata": {
        "id": "MXR8u9Nr5GKz"
      },
      "execution_count": null,
      "outputs": []
    },
    {
      "cell_type": "code",
      "source": [
        ""
      ],
      "metadata": {
        "id": "u1G13ILC88ad"
      },
      "execution_count": null,
      "outputs": []
    },
    {
      "cell_type": "markdown",
      "source": [
        "https://drive.google.com/drive/my-drive"
      ],
      "metadata": {
        "id": "JYHvpWLw8bBa"
      }
    }
  ]
}